{
 "cells": [
  {
   "cell_type": "code",
   "execution_count": 1,
   "metadata": {},
   "outputs": [],
   "source": [
    "import os\n",
    "import pickle"
   ]
  },
  {
   "cell_type": "code",
   "execution_count": 2,
   "metadata": {},
   "outputs": [
    {
     "name": "stdout",
     "output_type": "stream",
     "text": [
      "\u001b[31mERROR: pip's dependency resolver does not currently take into account all the packages that are installed. This behaviour is the source of the following dependency conflicts.\r\n",
      "fastai 1.0.61 requires nvidia-ml-py3, which is not installed.\u001b[0m\r\n"
     ]
    }
   ],
   "source": [
    "!pip install -qq transformers"
   ]
  },
  {
   "cell_type": "code",
   "execution_count": 3,
   "metadata": {},
   "outputs": [],
   "source": [
    "import transformers\n",
    "from transformers import BertModel, BertTokenizer, AdamW, get_linear_schedule_with_warmup\n",
    "import torch\n",
    "import numpy as np\n",
    "from torch.utils.data import Dataset, DataLoader\n",
    "from bs4 import BeautifulSoup\n",
    "import torch.nn.functional as F"
   ]
  },
  {
   "cell_type": "code",
   "execution_count": 4,
   "metadata": {},
   "outputs": [],
   "source": [
    "from dataloader_classes_func import ReviewDataset, createDataLoader"
   ]
  },
  {
   "cell_type": "code",
   "execution_count": 5,
   "metadata": {},
   "outputs": [],
   "source": [
    "with open(\"./data/train_reviews_v2.pkl\",'rb') as fp:\n",
    "    train_reviews= pickle.load(fp)\n",
    "\n",
    "with open(\"./data/val_reviews_v2.pkl\",'rb') as fp:\n",
    "    val_reviews= pickle.load(fp)\n",
    "    \n",
    "with open(\"./data/train_labels_v2.pkl\",'rb') as fp:\n",
    "    train_labels= pickle.load(fp)\n",
    "\n",
    "with open(\"./data/val_labels_v2.pkl\",'rb') as fp:\n",
    "    val_labels= pickle.load(fp)"
   ]
  },
  {
   "cell_type": "code",
   "execution_count": 6,
   "metadata": {},
   "outputs": [
    {
     "data": {
      "application/vnd.jupyter.widget-view+json": {
       "model_id": "26c4bedb0cdd473ca5ad9ca19077cfae",
       "version_major": 2,
       "version_minor": 0
      },
      "text/plain": [
       "HBox(children=(FloatProgress(value=0.0, description='Downloading', max=213450.0, style=ProgressStyle(descripti…"
      ]
     },
     "metadata": {},
     "output_type": "display_data"
    },
    {
     "name": "stdout",
     "output_type": "stream",
     "text": [
      "\n"
     ]
    }
   ],
   "source": [
    "MODEL_NAME = 'bert-base-cased'\n",
    "tokenizer= BertTokenizer.from_pretrained(MODEL_NAME)"
   ]
  },
  {
   "cell_type": "code",
   "execution_count": 7,
   "metadata": {},
   "outputs": [],
   "source": [
    "train_dataset= {'data': train_reviews, 'labels': train_labels}\n",
    "train_dataloader= createDataLoader(train_dataset, tokenizer)"
   ]
  },
  {
   "cell_type": "code",
   "execution_count": 8,
   "metadata": {},
   "outputs": [],
   "source": [
    "val_dataset= {'data': val_reviews, 'labels': val_labels}\n",
    "val_dataloader= createDataLoader(val_dataset, tokenizer)"
   ]
  },
  {
   "cell_type": "code",
   "execution_count": 9,
   "metadata": {},
   "outputs": [],
   "source": [
    "class SentimentClassifier(torch.nn.Module):\n",
    "    \n",
    "    def __init__(self, n_class=2):\n",
    "        super(SentimentClassifier, self).__init__()\n",
    "        self.n_class= n_class\n",
    "        self.bert_model= BertModel.from_pretrained('bert-base-cased')\n",
    "        self.drop = torch.nn.Dropout(p=0.3)\n",
    "        self.out= torch.nn.Linear(self.bert_model.config.hidden_size, self.n_class)\n",
    "        \n",
    "    def forward(self, input_ids, attention_mask):\n",
    "        bert_output= self.bert_model(input_ids= input_ids, attention_mask= attention_mask)\n",
    "        dropout_output= self.drop(bert_output.pooler_output)\n",
    "        linear_output= self.out(dropout_output)\n",
    "        output= F.softmax(linear_output, dim= 1)\n",
    "        return output"
   ]
  },
  {
   "cell_type": "code",
   "execution_count": 10,
   "metadata": {},
   "outputs": [],
   "source": [
    "device = torch.device(\"cuda:0\" if torch.cuda.is_available() else \"cpu\")\n",
    "#device = torch.device(\"cpu\")"
   ]
  },
  {
   "cell_type": "code",
   "execution_count": 11,
   "metadata": {},
   "outputs": [
    {
     "data": {
      "application/vnd.jupyter.widget-view+json": {
       "model_id": "52186af487d44dca8aa2eb32a52e64f8",
       "version_major": 2,
       "version_minor": 0
      },
      "text/plain": [
       "HBox(children=(FloatProgress(value=0.0, description='Downloading', max=433.0, style=ProgressStyle(description_…"
      ]
     },
     "metadata": {},
     "output_type": "display_data"
    },
    {
     "name": "stdout",
     "output_type": "stream",
     "text": [
      "\n"
     ]
    },
    {
     "data": {
      "application/vnd.jupyter.widget-view+json": {
       "model_id": "411542f9e9f34f2fa57d6718a2e2dfa0",
       "version_major": 2,
       "version_minor": 0
      },
      "text/plain": [
       "HBox(children=(FloatProgress(value=0.0, description='Downloading', max=435779157.0, style=ProgressStyle(descri…"
      ]
     },
     "metadata": {},
     "output_type": "display_data"
    },
    {
     "name": "stdout",
     "output_type": "stream",
     "text": [
      "\n"
     ]
    }
   ],
   "source": [
    "model= SentimentClassifier()\n",
    "model= model.to(device)"
   ]
  },
  {
   "cell_type": "code",
   "execution_count": 12,
   "metadata": {},
   "outputs": [],
   "source": [
    "dl_item= next(iter(train_dataloader))\n",
    "ip_id_tensor= dl_item['encoding']['input_ids'].squeeze().to(device)\n",
    "attention_mask_tensor= dl_item['encoding']['attention_mask'].squeeze().to(device)"
   ]
  },
  {
   "cell_type": "code",
   "execution_count": 13,
   "metadata": {},
   "outputs": [],
   "source": [
    "r= model(ip_id_tensor, attention_mask_tensor)"
   ]
  },
  {
   "cell_type": "code",
   "execution_count": 14,
   "metadata": {},
   "outputs": [
    {
     "data": {
      "text/plain": [
       "tensor([[0.5453, 0.4547],\n",
       "        [0.6109, 0.3891],\n",
       "        [0.5654, 0.4346],\n",
       "        [0.5718, 0.4282],\n",
       "        [0.6912, 0.3088],\n",
       "        [0.8144, 0.1856],\n",
       "        [0.7984, 0.2016],\n",
       "        [0.5609, 0.4391],\n",
       "        [0.7568, 0.2432],\n",
       "        [0.7072, 0.2928],\n",
       "        [0.7341, 0.2659],\n",
       "        [0.5610, 0.4390],\n",
       "        [0.5962, 0.4038],\n",
       "        [0.6420, 0.3580],\n",
       "        [0.6776, 0.3224],\n",
       "        [0.7962, 0.2038],\n",
       "        [0.7285, 0.2715],\n",
       "        [0.6484, 0.3516],\n",
       "        [0.5426, 0.4574],\n",
       "        [0.7178, 0.2822],\n",
       "        [0.6497, 0.3503],\n",
       "        [0.7618, 0.2382],\n",
       "        [0.6332, 0.3668],\n",
       "        [0.6574, 0.3426],\n",
       "        [0.7631, 0.2369],\n",
       "        [0.6415, 0.3585],\n",
       "        [0.5754, 0.4246],\n",
       "        [0.5476, 0.4524],\n",
       "        [0.3960, 0.6040],\n",
       "        [0.6964, 0.3036],\n",
       "        [0.5876, 0.4124],\n",
       "        [0.7349, 0.2651]], device='cuda:0', grad_fn=<SoftmaxBackward>)"
      ]
     },
     "execution_count": 14,
     "metadata": {},
     "output_type": "execute_result"
    }
   ],
   "source": [
    "r"
   ]
  },
  {
   "cell_type": "code",
   "execution_count": 15,
   "metadata": {},
   "outputs": [
    {
     "data": {
      "text/plain": [
       "torch.Size([32, 2])"
      ]
     },
     "execution_count": 15,
     "metadata": {},
     "output_type": "execute_result"
    }
   ],
   "source": [
    "r.shape"
   ]
  },
  {
   "cell_type": "code",
   "execution_count": 12,
   "metadata": {},
   "outputs": [],
   "source": [
    "def forward_nd_back_prop(model, input_data, criterion, optimizer ):\n",
    "    ip_id_tensor= input_data['encoding']['input_ids'].squeeze().to(device)\n",
    "    attention_mask_tensor= input_data['encoding']['attention_mask'].squeeze().to(device)\n",
    "    labels= input_data['label'].to(device)\n",
    "    \n",
    "    model.train()\n",
    "    optimizer.zero_grad()\n",
    "    fwd_out= model(ip_id_tensor, attention_mask_tensor)\n",
    "    model_output= torch.argmax(fwd_out, dim= 1)\n",
    "    \n",
    "    correct_preds= model_output.eq(labels).sum().item()\n",
    "    acc= correct_preds/ len(labels)\n",
    "    loss= criterion(fwd_out, labels)\n",
    "    \n",
    "    loss.backward()\n",
    "    optimizer.step()\n",
    "    \n",
    "    return loss.item(), acc\n",
    "    \n",
    "    "
   ]
  },
  {
   "cell_type": "code",
   "execution_count": 13,
   "metadata": {},
   "outputs": [],
   "source": [
    "def val_loss_and_acc(model, input_data, criterion):\n",
    "    ip_id_tensor= input_data['encoding']['input_ids'].squeeze().to(device)\n",
    "    attention_mask_tensor= input_data['encoding']['attention_mask'].squeeze().to(device)\n",
    "    labels= input_data['label'].to(device)\n",
    "    \n",
    "    model.eval()\n",
    "    #optimizer.zero_grad()\n",
    "    fwd_out= model(ip_id_tensor, attention_mask_tensor)\n",
    "    model_output= torch.argmax(fwd_out, dim= 1)\n",
    "    \n",
    "    correct_preds= model_output.eq(labels).sum().item()\n",
    "    acc= correct_preds/ len(labels)\n",
    "    loss= criterion(fwd_out, labels)\n",
    "    \n",
    "    #loss.backward()\n",
    "    #optimizer.step()\n",
    "    \n",
    "    return loss.item(), acc"
   ]
  },
  {
   "cell_type": "code",
   "execution_count": 18,
   "metadata": {},
   "outputs": [],
   "source": [
    "import datetime"
   ]
  },
  {
   "cell_type": "code",
   "execution_count": 14,
   "metadata": {},
   "outputs": [],
   "source": [
    "def train(model, \n",
    "          train_dataloader, \n",
    "          val_dataloader,\n",
    "          criterion,\n",
    "          optimizer,\n",
    "          n_epoch= 10,\n",
    "          save_dir=\"./Saved_models\"):\n",
    "    \n",
    "    epoch_train_loss=[]\n",
    "    epoch_val_loss= []\n",
    "    \n",
    "    os.makedirs(save_dir, exist_ok= True)\n",
    "    \n",
    "    for epoch in range(1, n_epoch+1):\n",
    "        train_losses= []\n",
    "        train_acc= []\n",
    "        val_losses= []\n",
    "        val_acc= []\n",
    "        \n",
    "        \n",
    "        for batch_i, batch_data in enumerate(train_dataloader, 1):\n",
    "            train_batch_loss, train_batch_accuracy= forward_nd_back_prop(model, \n",
    "                                                                         batch_data, criterion, optimizer )\n",
    "            val_batch_loss, val_batch_accuracy= val_loss_and_acc(model, batch_data, criterion)\n",
    "            \n",
    "            train_losses.append(train_batch_loss)\n",
    "            train_acc.append(train_batch_accuracy)\n",
    "            val_losses.append(val_batch_loss)\n",
    "            val_acc.append(val_batch_accuracy)\n",
    "            \n",
    "        print(\"Epoch ({} / {}) Train_loss: {} , Train_accuracy: {} , Val_loss: {}, Val_acc: {}\".\n",
    "              format(epoch, n_epoch, np.mean(train_losses), np.mean(train_acc), \n",
    "                     np.mean(val_losses), np.mean(val_acc)))\n",
    "        \n",
    "        curr_train_loss= np.mean(train_losses)\n",
    "        curr_val_loss= np.mean(val_losses)\n",
    "        curr_train_acc= np.mean(train_acc)\n",
    "        curr_val_acc= np.mean(val_acc)\n",
    "        \n",
    "        try:\n",
    "            if min(epoch_val_loss) > curr_val_loss:\n",
    "                epoch_val_loss.append(curr_val_loss)\n",
    "                print(\"Saving the model\")\n",
    "                model_name= \"M_20210206.pt\"\n",
    "                torch.save(model.state_dict(), model_name)\n",
    "        except:\n",
    "            print(\"Saving the model\")\n",
    "            model_name= \"M_20210206.pt\"\n",
    "            save_path= os.path.join(save_dir, model_name)\n",
    "            torch.save(model.state_dict(), save_path)\n",
    "        \n",
    "        epoch_val_loss.append(curr_val_loss)\n",
    "        epoch_train_loss.append(curr_train_loss)\n",
    "        "
   ]
  },
  {
   "cell_type": "code",
   "execution_count": 15,
   "metadata": {},
   "outputs": [],
   "source": [
    "optimizer= AdamW(model.parameters(), lr=2e-5, correct_bias=False)\n",
    "loss_fn = torch.nn.CrossEntropyLoss().to(device)"
   ]
  },
  {
   "cell_type": "code",
   "execution_count": 16,
   "metadata": {},
   "outputs": [
    {
     "data": {
      "text/plain": [
       "<All keys matched successfully>"
      ]
     },
     "execution_count": 16,
     "metadata": {},
     "output_type": "execute_result"
    }
   ],
   "source": [
    "model.load_state_dict(torch.load(\"./Saved_models/M_2021-02-04_16:18:49.502614train_0.918_val0.935.pt\"))"
   ]
  },
  {
   "cell_type": "code",
   "execution_count": 17,
   "metadata": {},
   "outputs": [
    {
     "name": "stdout",
     "output_type": "stream",
     "text": [
      "Epoch (1 / 7) Train_loss: 0.42025277452468873 , Train_accuracy: 0.88925 , Val_loss: 0.3992387859344482, Val_acc: 0.91275\n",
      "Saving the model\n",
      "Epoch (2 / 7) Train_loss: 0.3810523626804352 , Train_accuracy: 0.93025 , Val_loss: 0.36811351761817934, Val_acc: 0.9452\n",
      "Saving the model\n",
      "Epoch (3 / 7) Train_loss: 0.3735261456489563 , Train_accuracy: 0.93855 , Val_loss: 0.36200039138793944, Val_acc: 0.95095\n",
      "Saving the model\n",
      "Epoch (4 / 7) Train_loss: 0.3657917757034302 , Train_accuracy: 0.94655 , Val_loss: 0.35700319595336916, Val_acc: 0.95595\n",
      "Saving the model\n",
      "Epoch (5 / 7) Train_loss: 0.362313111782074 , Train_accuracy: 0.94985 , Val_loss: 0.352675622177124, Val_acc: 0.9603\n",
      "Saving the model\n",
      "Epoch (6 / 7) Train_loss: 0.3614415914058685 , Train_accuracy: 0.95085 , Val_loss: 0.35208485717773436, Val_acc: 0.96075\n",
      "Saving the model\n",
      "Epoch (7 / 7) Train_loss: 0.35306149158477784 , Train_accuracy: 0.95935 , Val_loss: 0.3467588393688202, Val_acc: 0.96625\n",
      "Saving the model\n"
     ]
    }
   ],
   "source": [
    "train(model, train_dataloader, val_dataloader, loss_fn, optimizer, n_epoch= 7)"
   ]
  },
  {
   "cell_type": "code",
   "execution_count": 18,
   "metadata": {},
   "outputs": [],
   "source": [
    "torch.save(optimizer.state_dict(),\"optimizer_state.pt\")"
   ]
  },
  {
   "cell_type": "code",
   "execution_count": null,
   "metadata": {},
   "outputs": [],
   "source": []
  },
  {
   "cell_type": "code",
   "execution_count": 11,
   "metadata": {},
   "outputs": [
    {
     "name": "stdout",
     "output_type": "stream",
     "text": [
      "Wed Feb  3 10:36:24 2021       \r\n",
      "+-----------------------------------------------------------------------------+\r\n",
      "| NVIDIA-SMI 450.80.02    Driver Version: 450.80.02    CUDA Version: 11.0     |\r\n",
      "|-------------------------------+----------------------+----------------------+\r\n",
      "| GPU  Name        Persistence-M| Bus-Id        Disp.A | Volatile Uncorr. ECC |\r\n",
      "| Fan  Temp  Perf  Pwr:Usage/Cap|         Memory-Usage | GPU-Util  Compute M. |\r\n",
      "|                               |                      |               MIG M. |\r\n",
      "|===============================+======================+======================|\r\n",
      "|   0  Tesla K80           On   | 00000000:00:1E.0 Off |                    0 |\r\n",
      "| N/A   28C    P8    31W / 149W |      0MiB / 11441MiB |      0%      Default |\r\n",
      "|                               |                      |                  N/A |\r\n",
      "+-------------------------------+----------------------+----------------------+\r\n",
      "                                                                               \r\n",
      "+-----------------------------------------------------------------------------+\r\n",
      "| Processes:                                                                  |\r\n",
      "|  GPU   GI   CI        PID   Type   Process name                  GPU Memory |\r\n",
      "|        ID   ID                                                   Usage      |\r\n",
      "|=============================================================================|\r\n",
      "|  No running processes found                                                 |\r\n",
      "+-----------------------------------------------------------------------------+\r\n"
     ]
    }
   ],
   "source": [
    "!nvidia-smi"
   ]
  },
  {
   "cell_type": "code",
   "execution_count": null,
   "metadata": {},
   "outputs": [],
   "source": []
  }
 ],
 "metadata": {
  "kernelspec": {
   "display_name": "conda_pytorch_p36",
   "language": "python",
   "name": "conda_pytorch_p36"
  },
  "language_info": {
   "codemirror_mode": {
    "name": "ipython",
    "version": 3
   },
   "file_extension": ".py",
   "mimetype": "text/x-python",
   "name": "python",
   "nbconvert_exporter": "python",
   "pygments_lexer": "ipython3",
   "version": "3.6.10"
  }
 },
 "nbformat": 4,
 "nbformat_minor": 4
}
